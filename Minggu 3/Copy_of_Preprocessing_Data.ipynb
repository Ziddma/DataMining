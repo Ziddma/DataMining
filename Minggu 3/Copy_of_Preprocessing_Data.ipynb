{
  "nbformat": 4,
  "nbformat_minor": 0,
  "metadata": {
    "colab": {
      "provenance": []
    },
    "kernelspec": {
      "name": "python3",
      "display_name": "Python 3"
    }
  },
  "cells": [
    {
      "cell_type": "code",
      "metadata": {
        "id": "2DKDpXsb8Tym"
      },
      "source": [
        "import numpy as np\n",
        "import matplotlib.pyplot as plt\n",
        "import pandas as pd\n",
        "from sklearn.model_selection import train_test_split"
      ],
      "execution_count": null,
      "outputs": []
    },
    {
      "cell_type": "code",
      "metadata": {
        "id": "JPDFYyq7G_RF"
      },
      "source": [
        "dataset = pd.read_csv('Data.csv', sep=';')\n",
        "x = dataset.iloc[:, :-1].values\n",
        "y = dataset.iloc[:, -1].values"
      ],
      "execution_count": null,
      "outputs": []
    },
    {
      "cell_type": "code",
      "metadata": {
        "colab": {
          "base_uri": "https://localhost:8080/"
        },
        "id": "kb9GarmBH-8Z",
        "outputId": "e4aa71eb-eaba-4a9e-fd21-61533d3b9f95"
      },
      "source": [
        "print(x)"
      ],
      "execution_count": null,
      "outputs": [
        {
          "output_type": "stream",
          "name": "stdout",
          "text": [
            "[['Mozambique' 45.0 49828.0]\n",
            " ['Turkmenistan' 26.0 20041.0]\n",
            " ['Argentina' 47.0 9055.0]\n",
            " ['Aruba' 29.0 60458.0]\n",
            " ['Jersey' nan 40356.0]\n",
            " ['South Sudan' 58.0 3353.0]\n",
            " ['United Arab Emirates' 31.0 nan]\n",
            " ['Bangladesh' 55.0 11092.0]\n",
            " ['Antigua and Barbuda' 52.0 69673.0]\n",
            " ['American Samoa' 54.0 21398.0]\n",
            " ['Indonesia' 55.0 35587.0]\n",
            " ['Benin' 39.0 9620.0]\n",
            " ['Reunion' 42.0 43990.0]\n",
            " ['Timor-Leste' 40.0 15630.0]\n",
            " ['Ethiopia' 48.0 34114.0]\n",
            " ['Equatorial Guinea' 53.0 36615.0]\n",
            " ['Cook Islands' 49.0 8260.0]\n",
            " ['French Guiana' 46.0 28090.0]\n",
            " ['Equatorial Guinea' 45.0 59172.0]\n",
            " ['Heard Island' 51.0 nan]\n",
            " ['Guadeloupe' 58.0 11402.0]\n",
            " ['Norway' 60.0 77918.0]\n",
            " ['Cameroon' 41.0 47441.0]\n",
            " ['Azerbaijan' 47.0 12226.0]\n",
            " ['Bangladesh' 20.0 52012.0]\n",
            " ['Namibia' 50.0 62215.0]\n",
            " ['French ' 27.0 81164.0]\n",
            " ['Dominican' 49.0 45935.0]\n",
            " ['Jersey' 36.0 15102.0]\n",
            " ['Guinea' 43.0 23171.0]\n",
            " ['Germany' 36.0 75622.0]\n",
            " ['Faroe Islands' 22.0 50294.0]\n",
            " ['Aruba' 34.0 49930.0]\n",
            " ['Syria' 59.0 5022.0]\n",
            " ['South Africa' 21.0 23316.0]\n",
            " ['Ukraine' 20.0 83813.0]\n",
            " ['Tokelau' 39.0 10211.0]\n",
            " ['Guyana' 59.0 79811.0]\n",
            " ['Korea, North' 37.0 32496.0]\n",
            " ['Norfolk Island' 59.0 92831.0]\n",
            " ['American Samoa' 46.0 76345.0]\n",
            " ['Viet Nam' 59.0 67292.0]\n",
            " ['Gambia' nan 31163.0]\n",
            " ['Spain' 50.0 29363.0]\n",
            " ['Korea' 27.0 87225.0]\n",
            " ['Bhutan' 49.0 75423.0]\n",
            " ['Singapore' 49.0 81842.0]\n",
            " ['Burundi' 26.0 35962.0]\n",
            " ['Mongolia' 25.0 95954.0]\n",
            " ['Sint Maarten' 55.0 67960.0]\n",
            " ['Bulgaria' 24.0 34924.0]\n",
            " ['Jamaica' 59.0 35726.0]\n",
            " ['Croatia' 23.0 12828.0]\n",
            " ['Bulgaria' 20.0 81382.0]\n",
            " ['Angola' 18.0 14011.0]\n",
            " ['French' 51.0 43889.0]\n",
            " ['Taiwan' 26.0 44622.0]\n",
            " ['San Marino' 24.0 37099.0]\n",
            " ['Guadeloupe' 40.0 84415.0]\n",
            " ['Japan' 22.0 67773.0]\n",
            " ['Argentina' 24.0 38866.0]\n",
            " ['Maldives' 56.0 67692.0]\n",
            " ['Uganda' 22.0 28250.0]\n",
            " ['Turks' 26.0 73874.0]\n",
            " ['Costa Rica' 59.0 82072.0]\n",
            " ['Japan' 59.0 46348.0]\n",
            " ['Bhutan' 43.0 nan]\n",
            " ['Switzerland' 46.0 71337.0]\n",
            " ['Kazakhstan' 24.0 87626.0]\n",
            " ['Canada' 35.0 49548.0]\n",
            " ['Iceland' 58.0 5880.0]\n",
            " ['Tonga' 48.0 51031.0]\n",
            " ['Armenia' 55.0 27285.0]\n",
            " ['Fiji' 37.0 24030.0]\n",
            " ['Morocco' 31.0 43336.0]\n",
            " ['Guadeloupe' 55.0 60884.0]\n",
            " ['Falkland Islands' 43.0 nan]\n",
            " ['Cocos' 36.0 56267.0]\n",
            " ['Oman' 35.0 52326.0]\n",
            " ['Congo' 25.0 60739.0]\n",
            " ['Saint Pierre and Miquelon' 51.0 13002.0]\n",
            " ['Croatia' 42.0 82567.0]\n",
            " ['United States' 41.0 80469.0]\n",
            " ['Guernsey' 58.0 30494.0]\n",
            " ['Armenia' 38.0 27675.0]\n",
            " ['Burundi' 48.0 26888.0]\n",
            " ['France' 59.0 80995.0]\n",
            " ['Iraq' 32.0 17939.0]\n",
            " ['Faroe Islands' nan 44538.0]\n",
            " ['Samoa' 27.0 95139.0]\n",
            " ['New Zealand' 43.0 79332.0]\n",
            " ['United Arab Emirates' 27.0 84564.0]\n",
            " ['Bermuda' 30.0 84388.0]\n",
            " ['Iran' 48.0 45340.0]\n",
            " ['Myanmar' nan 81678.0]\n",
            " ['Eritrea' 42.0 96086.0]\n",
            " ['Indian' 58.0 63000.0]\n",
            " ['Taiwan' 21.0 51272.0]\n",
            " ['Honduras' 45.0 nan]\n",
            " ['Viet Nam' 28.0 44488.0]]\n"
          ]
        }
      ]
    },
    {
      "cell_type": "code",
      "metadata": {
        "colab": {
          "base_uri": "https://localhost:8080/"
        },
        "id": "fPYNdjZzIR6J",
        "outputId": "4f79f709-3bf9-480c-b2a7-c91353cfb7c5"
      },
      "source": [
        "print(y)"
      ],
      "execution_count": null,
      "outputs": [
        {
          "output_type": "stream",
          "name": "stdout",
          "text": [
            "['Yes' 'No' 'No' 'Yes' 'Yes' 'Yes' 'No' 'No' 'No' 'No' 'Yes' 'No' 'No'\n",
            " 'Yes' 'No' 'Yes' 'No' 'No' 'Yes' 'Yes' 'Yes' 'Yes' 'No' 'Yes' 'Yes' 'No'\n",
            " 'Yes' 'Yes' 'Yes' 'Yes' 'Yes' 'Yes' 'No' 'Yes' 'Yes' 'No' 'Yes' 'No' 'No'\n",
            " 'No' 'No' 'No' 'Yes' 'Yes' 'No' 'Yes' 'No' 'Yes' 'Yes' 'No' 'No' 'No'\n",
            " 'Yes' 'Yes' 'No' 'Yes' 'Yes' 'No' 'Yes' 'Yes' 'No' 'No' 'No' 'No' 'No'\n",
            " 'No' 'No' 'No' 'No' 'No' 'No' 'Yes' 'Yes' 'No' 'Yes' 'No' 'No' 'Yes'\n",
            " 'Yes' 'No' 'Yes' 'Yes' 'Yes' 'No' 'No' 'Yes' 'Yes' 'Yes' 'No' 'No' 'No'\n",
            " 'No' 'No' 'No' 'No' 'Yes' 'Yes' 'Yes' 'No' 'No']\n"
          ]
        }
      ]
    },
    {
      "cell_type": "code",
      "metadata": {
        "id": "tliVpM6bIgu9"
      },
      "source": [
        "from sklearn.impute import SimpleImputer\n",
        "imputer = SimpleImputer(missing_values=np.nan, strategy='mean')\n",
        "imputer.fit(x[:, 1:3])\n",
        "x[:, 1:3] = imputer.transform(x[:, 1:3])"
      ],
      "execution_count": null,
      "outputs": []
    },
    {
      "cell_type": "code",
      "metadata": {
        "colab": {
          "base_uri": "https://localhost:8080/"
        },
        "id": "-dmcXYMLJcDf",
        "outputId": "dc4c8892-c0a8-4d8e-8374-4aac24faffff"
      },
      "source": [
        "print(x)"
      ],
      "execution_count": null,
      "outputs": [
        {
          "output_type": "stream",
          "name": "stdout",
          "text": [
            "[['Mozambique' 45.0 49828.0]\n",
            " ['Turkmenistan' 26.0 20041.0]\n",
            " ['Argentina' 47.0 9055.0]\n",
            " ['Aruba' 29.0 60458.0]\n",
            " ['Jersey' 40.9375 40356.0]\n",
            " ['South Sudan' 58.0 3353.0]\n",
            " ['United Arab Emirates' 31.0 48954.81052631579]\n",
            " ['Bangladesh' 55.0 11092.0]\n",
            " ['Antigua and Barbuda' 52.0 69673.0]\n",
            " ['American Samoa' 54.0 21398.0]\n",
            " ['Indonesia' 55.0 35587.0]\n",
            " ['Benin' 39.0 9620.0]\n",
            " ['Reunion' 42.0 43990.0]\n",
            " ['Timor-Leste' 40.0 15630.0]\n",
            " ['Ethiopia' 48.0 34114.0]\n",
            " ['Equatorial Guinea' 53.0 36615.0]\n",
            " ['Cook Islands' 49.0 8260.0]\n",
            " ['French Guiana' 46.0 28090.0]\n",
            " ['Equatorial Guinea' 45.0 59172.0]\n",
            " ['Heard Island' 51.0 48954.81052631579]\n",
            " ['Guadeloupe' 58.0 11402.0]\n",
            " ['Norway' 60.0 77918.0]\n",
            " ['Cameroon' 41.0 47441.0]\n",
            " ['Azerbaijan' 47.0 12226.0]\n",
            " ['Bangladesh' 20.0 52012.0]\n",
            " ['Namibia' 50.0 62215.0]\n",
            " ['French ' 27.0 81164.0]\n",
            " ['Dominican' 49.0 45935.0]\n",
            " ['Jersey' 36.0 15102.0]\n",
            " ['Guinea' 43.0 23171.0]\n",
            " ['Germany' 36.0 75622.0]\n",
            " ['Faroe Islands' 22.0 50294.0]\n",
            " ['Aruba' 34.0 49930.0]\n",
            " ['Syria' 59.0 5022.0]\n",
            " ['South Africa' 21.0 23316.0]\n",
            " ['Ukraine' 20.0 83813.0]\n",
            " ['Tokelau' 39.0 10211.0]\n",
            " ['Guyana' 59.0 79811.0]\n",
            " ['Korea, North' 37.0 32496.0]\n",
            " ['Norfolk Island' 59.0 92831.0]\n",
            " ['American Samoa' 46.0 76345.0]\n",
            " ['Viet Nam' 59.0 67292.0]\n",
            " ['Gambia' 40.9375 31163.0]\n",
            " ['Spain' 50.0 29363.0]\n",
            " ['Korea' 27.0 87225.0]\n",
            " ['Bhutan' 49.0 75423.0]\n",
            " ['Singapore' 49.0 81842.0]\n",
            " ['Burundi' 26.0 35962.0]\n",
            " ['Mongolia' 25.0 95954.0]\n",
            " ['Sint Maarten' 55.0 67960.0]\n",
            " ['Bulgaria' 24.0 34924.0]\n",
            " ['Jamaica' 59.0 35726.0]\n",
            " ['Croatia' 23.0 12828.0]\n",
            " ['Bulgaria' 20.0 81382.0]\n",
            " ['Angola' 18.0 14011.0]\n",
            " ['French' 51.0 43889.0]\n",
            " ['Taiwan' 26.0 44622.0]\n",
            " ['San Marino' 24.0 37099.0]\n",
            " ['Guadeloupe' 40.0 84415.0]\n",
            " ['Japan' 22.0 67773.0]\n",
            " ['Argentina' 24.0 38866.0]\n",
            " ['Maldives' 56.0 67692.0]\n",
            " ['Uganda' 22.0 28250.0]\n",
            " ['Turks' 26.0 73874.0]\n",
            " ['Costa Rica' 59.0 82072.0]\n",
            " ['Japan' 59.0 46348.0]\n",
            " ['Bhutan' 43.0 48954.81052631579]\n",
            " ['Switzerland' 46.0 71337.0]\n",
            " ['Kazakhstan' 24.0 87626.0]\n",
            " ['Canada' 35.0 49548.0]\n",
            " ['Iceland' 58.0 5880.0]\n",
            " ['Tonga' 48.0 51031.0]\n",
            " ['Armenia' 55.0 27285.0]\n",
            " ['Fiji' 37.0 24030.0]\n",
            " ['Morocco' 31.0 43336.0]\n",
            " ['Guadeloupe' 55.0 60884.0]\n",
            " ['Falkland Islands' 43.0 48954.81052631579]\n",
            " ['Cocos' 36.0 56267.0]\n",
            " ['Oman' 35.0 52326.0]\n",
            " ['Congo' 25.0 60739.0]\n",
            " ['Saint Pierre and Miquelon' 51.0 13002.0]\n",
            " ['Croatia' 42.0 82567.0]\n",
            " ['United States' 41.0 80469.0]\n",
            " ['Guernsey' 58.0 30494.0]\n",
            " ['Armenia' 38.0 27675.0]\n",
            " ['Burundi' 48.0 26888.0]\n",
            " ['France' 59.0 80995.0]\n",
            " ['Iraq' 32.0 17939.0]\n",
            " ['Faroe Islands' 40.9375 44538.0]\n",
            " ['Samoa' 27.0 95139.0]\n",
            " ['New Zealand' 43.0 79332.0]\n",
            " ['United Arab Emirates' 27.0 84564.0]\n",
            " ['Bermuda' 30.0 84388.0]\n",
            " ['Iran' 48.0 45340.0]\n",
            " ['Myanmar' 40.9375 81678.0]\n",
            " ['Eritrea' 42.0 96086.0]\n",
            " ['Indian' 58.0 63000.0]\n",
            " ['Taiwan' 21.0 51272.0]\n",
            " ['Honduras' 45.0 48954.81052631579]\n",
            " ['Viet Nam' 28.0 44488.0]]\n"
          ]
        }
      ]
    },
    {
      "cell_type": "code",
      "metadata": {
        "id": "PTFBpzBBJt65"
      },
      "source": [
        "from sklearn.compose import ColumnTransformer\n",
        "from sklearn.preprocessing import OneHotEncoder\n",
        "ct = ColumnTransformer(transformers=[('encoder', OneHotEncoder(), [0])], remainder='passthrough')\n",
        "x = np.array(ct.fit_transform(x))"
      ],
      "execution_count": null,
      "outputs": []
    },
    {
      "cell_type": "code",
      "metadata": {
        "colab": {
          "base_uri": "https://localhost:8080/"
        },
        "id": "P_9GQ4P3KuNV",
        "outputId": "399d1beb-7f0f-4119-d01f-b325c2681d6d"
      },
      "source": [
        "print(x)"
      ],
      "execution_count": null,
      "outputs": [
        {
          "output_type": "stream",
          "name": "stdout",
          "text": [
            "  (0, 53)\t1.0\n",
            "  (0, 82)\t45.0\n",
            "  (0, 83)\t49828.0\n",
            "  (1, 75)\t1.0\n",
            "  (1, 82)\t26.0\n",
            "  (1, 83)\t20041.0\n",
            "  (2, 3)\t1.0\n",
            "  (2, 82)\t47.0\n",
            "  (2, 83)\t9055.0\n",
            "  (3, 5)\t1.0\n",
            "  (3, 82)\t29.0\n",
            "  (3, 83)\t60458.0\n",
            "  (4, 46)\t1.0\n",
            "  (4, 82)\t40.9375\n",
            "  (4, 83)\t40356.0\n",
            "  (5, 67)\t1.0\n",
            "  (5, 82)\t58.0\n",
            "  (5, 83)\t3353.0\n",
            "  (6, 79)\t1.0\n",
            "  (6, 82)\t31.0\n",
            "  (6, 83)\t48954.81052631579\n",
            "  (7, 7)\t1.0\n",
            "  (7, 82)\t55.0\n",
            "  (7, 83)\t11092.0\n",
            "  (8, 2)\t1.0\n",
            "  :\t:\n",
            "  (91, 83)\t84564.0\n",
            "  (92, 9)\t1.0\n",
            "  (92, 82)\t30.0\n",
            "  (92, 83)\t84388.0\n",
            "  (93, 42)\t1.0\n",
            "  (93, 82)\t48.0\n",
            "  (93, 83)\t45340.0\n",
            "  (94, 54)\t1.0\n",
            "  (94, 82)\t40.9375\n",
            "  (94, 83)\t81678.0\n",
            "  (95, 22)\t1.0\n",
            "  (95, 82)\t42.0\n",
            "  (95, 83)\t96086.0\n",
            "  (96, 40)\t1.0\n",
            "  (96, 82)\t58.0\n",
            "  (96, 83)\t63000.0\n",
            "  (97, 71)\t1.0\n",
            "  (97, 82)\t21.0\n",
            "  (97, 83)\t51272.0\n",
            "  (98, 38)\t1.0\n",
            "  (98, 82)\t45.0\n",
            "  (98, 83)\t48954.81052631579\n",
            "  (99, 81)\t1.0\n",
            "  (99, 82)\t28.0\n",
            "  (99, 83)\t44488.0\n"
          ]
        }
      ]
    },
    {
      "cell_type": "code",
      "metadata": {
        "id": "c73-6zWjLBgo"
      },
      "source": [
        "from sklearn.preprocessing import LabelEncoder\n",
        "le = LabelEncoder()\n",
        "y = le.fit_transform(y)"
      ],
      "execution_count": null,
      "outputs": []
    },
    {
      "cell_type": "code",
      "metadata": {
        "colab": {
          "base_uri": "https://localhost:8080/"
        },
        "id": "Go3MqGP-LS5P",
        "outputId": "457c1944-8031-46cc-f51e-169abdca7556"
      },
      "source": [
        "print(y)"
      ],
      "execution_count": null,
      "outputs": [
        {
          "output_type": "stream",
          "name": "stdout",
          "text": [
            "[1 0 0 1 1 1 0 0 0 0 1 0 0 1 0 1 0 0 1 1 1 1 0 1 1 0 1 1 1 1 1 1 0 1 1 0 1\n",
            " 0 0 0 0 0 1 1 0 1 0 1 1 0 0 0 1 1 0 1 1 0 1 1 0 0 0 0 0 0 0 0 0 0 0 1 1 0\n",
            " 1 0 0 1 1 0 1 1 1 0 0 1 1 1 0 0 0 0 0 0 0 1 1 1 0 0]\n"
          ]
        }
      ]
    },
    {
      "cell_type": "code",
      "metadata": {
        "id": "-fBBg0UWLryt"
      },
      "source": [
        "x = dataset[['Country','Age','Salary']].values\n",
        "y = dataset['Purchased'].values\n",
        "\n",
        "#memisahkan untuk data yang di latih dan data yang di test. testnya sebesar 2%\n",
        "x_train, x_test, y_train, y_test = train_test_split(x, y, test_size = 0.2, random_state=0)"
      ],
      "execution_count": null,
      "outputs": []
    },
    {
      "cell_type": "code",
      "metadata": {
        "colab": {
          "base_uri": "https://localhost:8080/"
        },
        "id": "h4nkKTl6MXuJ",
        "outputId": "7b41dcc6-4825-4ec7-c53c-a234bd11d698"
      },
      "source": [
        "print(x_train)"
      ],
      "execution_count": null,
      "outputs": [
        {
          "output_type": "stream",
          "name": "stdout",
          "text": [
            "[['Spain' 50.0 29363.0]\n",
            " ['Uganda' 22.0 28250.0]\n",
            " ['Aruba' 29.0 60458.0]\n",
            " ['Tonga' 48.0 51031.0]\n",
            " ['Bhutan' 49.0 75423.0]\n",
            " ['Mongolia' 25.0 95954.0]\n",
            " ['United Arab Emirates' 31.0 nan]\n",
            " ['Viet Nam' 28.0 44488.0]\n",
            " ['United States' 41.0 80469.0]\n",
            " ['Falkland Islands' 43.0 nan]\n",
            " ['Argentina' 24.0 38866.0]\n",
            " ['Saint Pierre and Miquelon' 51.0 13002.0]\n",
            " ['New Zealand' 43.0 79332.0]\n",
            " ['Kazakhstan' 24.0 87626.0]\n",
            " ['Jamaica' 59.0 35726.0]\n",
            " ['Dominican' 49.0 45935.0]\n",
            " ['Equatorial Guinea' 45.0 59172.0]\n",
            " ['Taiwan' 26.0 44622.0]\n",
            " ['Turks' 26.0 73874.0]\n",
            " ['Morocco' 31.0 43336.0]\n",
            " ['Turkmenistan' 26.0 20041.0]\n",
            " ['Maldives' 56.0 67692.0]\n",
            " ['Gambia' nan 31163.0]\n",
            " ['Viet Nam' 59.0 67292.0]\n",
            " ['Jersey' nan 40356.0]\n",
            " ['Equatorial Guinea' 53.0 36615.0]\n",
            " ['French Guiana' 46.0 28090.0]\n",
            " ['American Samoa' 46.0 76345.0]\n",
            " ['Korea, North' 37.0 32496.0]\n",
            " ['South Sudan' 58.0 3353.0]\n",
            " ['United Arab Emirates' 27.0 84564.0]\n",
            " ['Japan' 22.0 67773.0]\n",
            " ['Mozambique' 45.0 49828.0]\n",
            " ['South Africa' 21.0 23316.0]\n",
            " ['Jersey' 36.0 15102.0]\n",
            " ['Bulgaria' 24.0 34924.0]\n",
            " ['Benin' 39.0 9620.0]\n",
            " ['Ukraine' 20.0 83813.0]\n",
            " ['Azerbaijan' 47.0 12226.0]\n",
            " ['Croatia' 23.0 12828.0]\n",
            " ['Indonesia' 55.0 35587.0]\n",
            " ['Faroe Islands' 22.0 50294.0]\n",
            " ['Bhutan' 43.0 nan]\n",
            " ['San Marino' 24.0 37099.0]\n",
            " ['Congo' 25.0 60739.0]\n",
            " ['Burundi' 48.0 26888.0]\n",
            " ['Aruba' 34.0 49930.0]\n",
            " ['Armenia' 38.0 27675.0]\n",
            " ['Ethiopia' 48.0 34114.0]\n",
            " ['Samoa' 27.0 95139.0]\n",
            " ['Heard Island' 51.0 nan]\n",
            " ['Guinea' 43.0 23171.0]\n",
            " ['Sint Maarten' 55.0 67960.0]\n",
            " ['Taiwan' 21.0 51272.0]\n",
            " ['Honduras' 45.0 nan]\n",
            " ['Canada' 35.0 49548.0]\n",
            " ['Guadeloupe' 58.0 11402.0]\n",
            " ['Myanmar' nan 81678.0]\n",
            " ['Armenia' 55.0 27285.0]\n",
            " ['Cocos' 36.0 56267.0]\n",
            " ['Namibia' 50.0 62215.0]\n",
            " ['Guyana' 59.0 79811.0]\n",
            " ['Croatia' 42.0 82567.0]\n",
            " ['Singapore' 49.0 81842.0]\n",
            " ['Norfolk Island' 59.0 92831.0]\n",
            " ['Japan' 59.0 46348.0]\n",
            " ['Guadeloupe' 40.0 84415.0]\n",
            " ['Reunion' 42.0 43990.0]\n",
            " ['Faroe Islands' nan 44538.0]\n",
            " ['Iceland' 58.0 5880.0]\n",
            " ['Iraq' 32.0 17939.0]\n",
            " ['Tokelau' 39.0 10211.0]\n",
            " ['Norway' 60.0 77918.0]\n",
            " ['Guernsey' 58.0 30494.0]\n",
            " ['American Samoa' 54.0 21398.0]\n",
            " ['Indian' 58.0 63000.0]\n",
            " ['Switzerland' 46.0 71337.0]\n",
            " ['Costa Rica' 59.0 82072.0]\n",
            " ['Burundi' 26.0 35962.0]\n",
            " ['Korea' 27.0 87225.0]]\n"
          ]
        }
      ]
    },
    {
      "cell_type": "code",
      "metadata": {
        "colab": {
          "base_uri": "https://localhost:8080/"
        },
        "id": "oVehWU-sMoX7",
        "outputId": "6fce0fb1-f7b1-47d8-9d84-bdc82772bc93"
      },
      "source": [
        "print(x_test)"
      ],
      "execution_count": null,
      "outputs": [
        {
          "output_type": "stream",
          "name": "stdout",
          "text": [
            "[['French ' 27.0 81164.0]\n",
            " ['France' 59.0 80995.0]\n",
            " ['Argentina' 47.0 9055.0]\n",
            " ['French' 51.0 43889.0]\n",
            " ['Guadeloupe' 55.0 60884.0]\n",
            " ['Iran' 48.0 45340.0]\n",
            " ['Cook Islands' 49.0 8260.0]\n",
            " ['Fiji' 37.0 24030.0]\n",
            " ['Angola' 18.0 14011.0]\n",
            " ['Eritrea' 42.0 96086.0]\n",
            " ['Bulgaria' 20.0 81382.0]\n",
            " ['Bermuda' 30.0 84388.0]\n",
            " ['Oman' 35.0 52326.0]\n",
            " ['Timor-Leste' 40.0 15630.0]\n",
            " ['Bangladesh' 55.0 11092.0]\n",
            " ['Germany' 36.0 75622.0]\n",
            " ['Cameroon' 41.0 47441.0]\n",
            " ['Bangladesh' 20.0 52012.0]\n",
            " ['Syria' 59.0 5022.0]\n",
            " ['Antigua and Barbuda' 52.0 69673.0]]\n"
          ]
        }
      ]
    },
    {
      "cell_type": "code",
      "metadata": {
        "colab": {
          "base_uri": "https://localhost:8080/"
        },
        "id": "HOqPlt8xMwaD",
        "outputId": "e7339257-ad4b-48b1-92aa-0a4314d98ffe"
      },
      "source": [
        "print(y_train)"
      ],
      "execution_count": null,
      "outputs": [
        {
          "output_type": "stream",
          "name": "stdout",
          "text": [
            "['Yes' 'No' 'Yes' 'Yes' 'Yes' 'Yes' 'No' 'No' 'Yes' 'No' 'No' 'Yes' 'No'\n",
            " 'No' 'No' 'Yes' 'Yes' 'Yes' 'No' 'Yes' 'No' 'No' 'Yes' 'No' 'Yes' 'Yes'\n",
            " 'No' 'No' 'No' 'Yes' 'No' 'Yes' 'Yes' 'Yes' 'Yes' 'No' 'No' 'No' 'Yes'\n",
            " 'Yes' 'Yes' 'Yes' 'No' 'No' 'No' 'Yes' 'No' 'No' 'No' 'No' 'Yes' 'Yes'\n",
            " 'No' 'Yes' 'No' 'No' 'Yes' 'No' 'Yes' 'Yes' 'No' 'No' 'Yes' 'No' 'No'\n",
            " 'No' 'Yes' 'No' 'No' 'No' 'Yes' 'Yes' 'Yes' 'No' 'No' 'Yes' 'No' 'No'\n",
            " 'Yes' 'No']\n"
          ]
        }
      ]
    },
    {
      "cell_type": "code",
      "metadata": {
        "colab": {
          "base_uri": "https://localhost:8080/"
        },
        "id": "KjwFgNXiM15F",
        "outputId": "fc275b52-6609-4a6d-e65c-4cd422c91ba4"
      },
      "source": [
        "print(y_test)"
      ],
      "execution_count": null,
      "outputs": [
        {
          "output_type": "stream",
          "name": "stdout",
          "text": [
            "['Yes' 'Yes' 'No' 'Yes' 'No' 'No' 'No' 'No' 'No' 'Yes' 'Yes' 'No' 'Yes'\n",
            " 'Yes' 'No' 'Yes' 'No' 'Yes' 'Yes' 'No']\n"
          ]
        }
      ]
    },
    {
      "cell_type": "code",
      "source": [
        "dataset.isnull().sum()"
      ],
      "metadata": {
        "colab": {
          "base_uri": "https://localhost:8080/"
        },
        "id": "Onk4RWZWdLRb",
        "outputId": "5c345431-afe1-4ded-fd46-9907f99e59b8"
      },
      "execution_count": null,
      "outputs": [
        {
          "output_type": "execute_result",
          "data": {
            "text/plain": [
              "Country      0\n",
              "Age          4\n",
              "Salary       5\n",
              "Purchased    0\n",
              "dtype: int64"
            ]
          },
          "metadata": {},
          "execution_count": 82
        }
      ]
    },
    {
      "cell_type": "code",
      "metadata": {
        "colab": {
          "base_uri": "https://localhost:8080/"
        },
        "id": "dJVHGwyZOC6U",
        "outputId": "1bffaf8b-ffe6-4ab3-995c-fe24b9234617"
      },
      "source": [
        "print(x_train)"
      ],
      "execution_count": null,
      "outputs": [
        {
          "output_type": "stream",
          "name": "stdout",
          "text": [
            "[['Spain' 50.0 29363.0]\n",
            " ['Uganda' 22.0 28250.0]\n",
            " ['Aruba' 29.0 60458.0]\n",
            " ['Tonga' 48.0 51031.0]\n",
            " ['Bhutan' 49.0 75423.0]\n",
            " ['Mongolia' 25.0 95954.0]\n",
            " ['United Arab Emirates' 31.0 nan]\n",
            " ['Viet Nam' 28.0 44488.0]\n",
            " ['United States' 41.0 80469.0]\n",
            " ['Falkland Islands' 43.0 nan]\n",
            " ['Argentina' 24.0 38866.0]\n",
            " ['Saint Pierre and Miquelon' 51.0 13002.0]\n",
            " ['New Zealand' 43.0 79332.0]\n",
            " ['Kazakhstan' 24.0 87626.0]\n",
            " ['Jamaica' 59.0 35726.0]\n",
            " ['Dominican' 49.0 45935.0]\n",
            " ['Equatorial Guinea' 45.0 59172.0]\n",
            " ['Taiwan' 26.0 44622.0]\n",
            " ['Turks' 26.0 73874.0]\n",
            " ['Morocco' 31.0 43336.0]\n",
            " ['Turkmenistan' 26.0 20041.0]\n",
            " ['Maldives' 56.0 67692.0]\n",
            " ['Gambia' nan 31163.0]\n",
            " ['Viet Nam' 59.0 67292.0]\n",
            " ['Jersey' nan 40356.0]\n",
            " ['Equatorial Guinea' 53.0 36615.0]\n",
            " ['French Guiana' 46.0 28090.0]\n",
            " ['American Samoa' 46.0 76345.0]\n",
            " ['Korea, North' 37.0 32496.0]\n",
            " ['South Sudan' 58.0 3353.0]\n",
            " ['United Arab Emirates' 27.0 84564.0]\n",
            " ['Japan' 22.0 67773.0]\n",
            " ['Mozambique' 45.0 49828.0]\n",
            " ['South Africa' 21.0 23316.0]\n",
            " ['Jersey' 36.0 15102.0]\n",
            " ['Bulgaria' 24.0 34924.0]\n",
            " ['Benin' 39.0 9620.0]\n",
            " ['Ukraine' 20.0 83813.0]\n",
            " ['Azerbaijan' 47.0 12226.0]\n",
            " ['Croatia' 23.0 12828.0]\n",
            " ['Indonesia' 55.0 35587.0]\n",
            " ['Faroe Islands' 22.0 50294.0]\n",
            " ['Bhutan' 43.0 nan]\n",
            " ['San Marino' 24.0 37099.0]\n",
            " ['Congo' 25.0 60739.0]\n",
            " ['Burundi' 48.0 26888.0]\n",
            " ['Aruba' 34.0 49930.0]\n",
            " ['Armenia' 38.0 27675.0]\n",
            " ['Ethiopia' 48.0 34114.0]\n",
            " ['Samoa' 27.0 95139.0]\n",
            " ['Heard Island' 51.0 nan]\n",
            " ['Guinea' 43.0 23171.0]\n",
            " ['Sint Maarten' 55.0 67960.0]\n",
            " ['Taiwan' 21.0 51272.0]\n",
            " ['Honduras' 45.0 nan]\n",
            " ['Canada' 35.0 49548.0]\n",
            " ['Guadeloupe' 58.0 11402.0]\n",
            " ['Myanmar' nan 81678.0]\n",
            " ['Armenia' 55.0 27285.0]\n",
            " ['Cocos' 36.0 56267.0]\n",
            " ['Namibia' 50.0 62215.0]\n",
            " ['Guyana' 59.0 79811.0]\n",
            " ['Croatia' 42.0 82567.0]\n",
            " ['Singapore' 49.0 81842.0]\n",
            " ['Norfolk Island' 59.0 92831.0]\n",
            " ['Japan' 59.0 46348.0]\n",
            " ['Guadeloupe' 40.0 84415.0]\n",
            " ['Reunion' 42.0 43990.0]\n",
            " ['Faroe Islands' nan 44538.0]\n",
            " ['Iceland' 58.0 5880.0]\n",
            " ['Iraq' 32.0 17939.0]\n",
            " ['Tokelau' 39.0 10211.0]\n",
            " ['Norway' 60.0 77918.0]\n",
            " ['Guernsey' 58.0 30494.0]\n",
            " ['American Samoa' 54.0 21398.0]\n",
            " ['Indian' 58.0 63000.0]\n",
            " ['Switzerland' 46.0 71337.0]\n",
            " ['Costa Rica' 59.0 82072.0]\n",
            " ['Burundi' 26.0 35962.0]\n",
            " ['Korea' 27.0 87225.0]]\n"
          ]
        }
      ]
    },
    {
      "cell_type": "code",
      "metadata": {
        "id": "uVN7n0clOOTM",
        "colab": {
          "base_uri": "https://localhost:8080/"
        },
        "outputId": "f33b6c7c-2658-4099-8a44-3e96a67798c1"
      },
      "source": [
        "print(x_test)"
      ],
      "execution_count": null,
      "outputs": [
        {
          "output_type": "stream",
          "name": "stdout",
          "text": [
            "[['French ' 27.0 81164.0]\n",
            " ['France' 59.0 80995.0]\n",
            " ['Argentina' 47.0 9055.0]\n",
            " ['French' 51.0 43889.0]\n",
            " ['Guadeloupe' 55.0 60884.0]\n",
            " ['Iran' 48.0 45340.0]\n",
            " ['Cook Islands' 49.0 8260.0]\n",
            " ['Fiji' 37.0 24030.0]\n",
            " ['Angola' 18.0 14011.0]\n",
            " ['Eritrea' 42.0 96086.0]\n",
            " ['Bulgaria' 20.0 81382.0]\n",
            " ['Bermuda' 30.0 84388.0]\n",
            " ['Oman' 35.0 52326.0]\n",
            " ['Timor-Leste' 40.0 15630.0]\n",
            " ['Bangladesh' 55.0 11092.0]\n",
            " ['Germany' 36.0 75622.0]\n",
            " ['Cameroon' 41.0 47441.0]\n",
            " ['Bangladesh' 20.0 52012.0]\n",
            " ['Syria' 59.0 5022.0]\n",
            " ['Antigua and Barbuda' 52.0 69673.0]]\n"
          ]
        }
      ]
    }
  ]
}